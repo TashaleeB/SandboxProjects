{
 "cells": [
  {
   "cell_type": "markdown",
   "metadata": {},
   "source": [
    "# Array\n",
    "\n",
    "This notebook will detail topics involving the **array**. Below is a list of the topics covered with examples.\n",
    "\n",
    "1. **Introduction**\n",
    "2. **Array Rotations**\n",
    "3. **Arrangement Rearrangement**\n",
    "4. **Order Statistics**\n",
    "5. **Range Queries**\n",
    "6. **Searching and Sorting**\n",
    "7. **Optimization Problems**\n",
    "8. **Matrix**\n",
    "\n",
    "An array is a mutable data container that contains items of the same type.  "
   ]
  },
  {
   "cell_type": "markdown",
   "metadata": {},
   "source": [
    "## Introduction\n",
    "\n",
    "(1) The general form of an array is <font color='red'>**array(data_type,value_list)**</font>. Below is a list of the data types.\n",
    "\n",
    "| Type Code | Python Type | Min Size in Bytes |\n",
    "|-----------|-------------|-------------------|\n",
    "|‘b’|\tsigned char\tint\t|1|\n",
    "|‘B’|\tunsigned char int\t|1|\n",
    "|‘u’|\tunicode character\t|2|\n",
    "|‘h’|\tsigned short\tint\t|2|\n",
    "|‘H’|\tunsigned short\tint\t|2|\n",
    "|‘i’|\tsigned int\tint\t|2|\n",
    "|‘I’|\tunsigned int int\t|2|\n",
    "|‘l’|\tsigned long\tint\t|4|\n",
    "|‘L’|\tunsigned long\tint\t|4|\n",
    "|‘q’|\tsigned long long\tint\t|8|\n",
    "|‘Q’|\tunsigned long long\tint\t|8|\n",
    "|‘f’|\tfloat\t|4|\n",
    "|‘d’|\tdouble\tfloat\t|8|\n",
    "\n",
    "\n",
    "(2) **Mutability of Array**   \n",
    "Once an array is built and populated, you can make changes to it in two different ways.  \n",
    "- You can **append()** a values at the end of the container  \n",
    "- You can **insert(index, value)**  \n",
    "\n",
    "Below are examples of how array(dt,l), append(), inseret(i,v) work together"
   ]
  },
  {
   "cell_type": "code",
   "execution_count": 11,
   "metadata": {},
   "outputs": [
    {
     "name": "stdout",
     "output_type": "stream",
     "text": [
      "The list of values of the orginal array: 1 2 3 4 \n",
      "\n",
      "I used append to add 21 to the end of the array. Here is the new array: 1 2 3 4 21 \n",
      "\n",
      "I used insert(i,v) to add a value at position 2. Here is the new array: 1 2 19 3 4 21 "
     ]
    }
   ],
   "source": [
    "# import array library\n",
    "import array\n",
    "\n",
    "# Initialize array with some list of values and the data type code and print the values in the array\n",
    "arr1 = array.array('i', [1,2,3,4])\n",
    "\n",
    "print(\"The list of values of the orginal array:\", end=\" \")\n",
    "for a in range(0,len(arr1)):\n",
    "    print(arr1[a], end=\" \")\n",
    "print(\"\\n\")\n",
    "\n",
    "# Lets add a new value at the end of the array using append()\n",
    "print(\"I used append to add 21 to the end of the array. Here is the new array:\", end=\" \")\n",
    "arr1.append(21)\n",
    "for a in range(0,len(arr1)):\n",
    "    print(arr1[a], end=\" \")\n",
    "print(\"\\n\")\n",
    "    \n",
    "#Lets add a value to the array at a specific position using insert(i,v)\n",
    "print(\"I used insert(i,v) to add a value at position 2. Here is the new array:\", end=\" \")\n",
    "arr1.insert(2,19)\n",
    "for a in range(0,len(arr1)):\n",
    "    print(arr1[a], end=\" \")"
   ]
  },
  {
   "cell_type": "markdown",
   "metadata": {},
   "source": [
    "Since we can add values to an array, certainly we can remove values. We can do this two different ways.  \n",
    "- You can \"pop\" out the element assigned to an index of an array and returns the new array using **pop(i)**  \n",
    "- You can remove the first occurance of a value in an array using **remove(v)**  \n",
    "\n",
    "Below is an axample of how to array(dt,l), pop(i), remove(v)  "
   ]
  },
  {
   "cell_type": "code",
   "execution_count": 34,
   "metadata": {
    "scrolled": true
   },
   "outputs": [
    {
     "name": "stdout",
     "output_type": "stream",
     "text": [
      "The original array is: 1 2 3 1 5 \n",
      "\n",
      "I removed the element at position 2 in the array: 3: 1 2 1 5 \n",
      "\n",
      "I will remove the value 1 from the array using remove(): 2 1 5 "
     ]
    }
   ],
   "source": [
    "# Since I've already imported this array library above I don't need to do that again.\n",
    "\n",
    "# Initialize an new data container and print the values of the orginal array\n",
    "arr2 = array.array('i', [1,2,3,1,5])\n",
    "\n",
    "print(\"The original array is:\", end=\" \")\n",
    "for a in range(0,len(arr2)):\n",
    "    print(arr2[a], end=\" \")\n",
    "print(\"\\n\")\n",
    "\n",
    "#Now I will pop out an element from a position in the array and print\n",
    "print(\"I removed the element at position 2 in the array:\", end=\" \")\n",
    "print(arr2.pop(2), end=\": \")\n",
    "for a in range(0,len(arr2)):\n",
    "    print(arr2[a],end=\" \")\n",
    "print(\"\\n\")\n",
    "\n",
    "# Finally I will use the remove(v) function to remove the first element of the array with that value and print\n",
    "print(\"I will remove the value 1 from the array using remove():\", end=\" \")\n",
    "arr2.remove(1)\n",
    "for a in range(0,len(arr2)):\n",
    "    print(arr2[a], end=\" \")"
   ]
  },
  {
   "cell_type": "markdown",
   "metadata": {},
   "source": [
    "The next thing that we can look at how to return the index of the first value within an array and you can reverse the order of the array.\n",
    "- **index(v)**  \n",
    "- **reverse()**  \n",
    "\n",
    "Below are different ways it impliment these functions.  "
   ]
  },
  {
   "cell_type": "code",
   "execution_count": 39,
   "metadata": {},
   "outputs": [
    {
     "name": "stdout",
     "output_type": "stream",
     "text": [
      "The orginal array:  array('i', [1, 2, 3, 1, 5, 5])\n",
      "\n",
      "The position of the first occurance of the value 1 is: 0 \n",
      "\n",
      "Revered array using reverse():  None\n",
      "\n",
      "Revered array using indexing:  array('i', [5, 5, 1, 3, 2])"
     ]
    }
   ],
   "source": [
    "# Again, I will not import the array library since I've done that already.\n",
    "\n",
    "# Let's initialize another array and populate it with a list of int\n",
    "arr3 = array.array('i',[1,2,3,1,5,5])\n",
    "\n",
    "print(\"The orginal array: \", arr3, end=\"\")\n",
    "print(\"\\n\")\n",
    "\n",
    "# Lets find the index of a value that appears first\n",
    "print(\"The position of the first occurance of the value 1 is:\", arr3.index(1), end=\" \")\n",
    "print(\"\\n\")\n",
    "\n",
    "# Now lets reverse the array. We can do this two different ways\n",
    "print(\"Revered array using reverse(): \", arr3.reverse(), end=\"\")\n",
    "print(\"\\n\")\n",
    "print(\"Revered array using indexing: \", arr3[:-1], end=\"\")"
   ]
  },
  {
   "cell_type": "markdown",
   "metadata": {},
   "source": [
    "## Array Rotations\n",
    "1. Program for array rotation\n",
    "2. Reversal algorithm for array rotation\n",
    "3. Block swap algorithm for array rotation\n",
    "Program to cyclically rotate an array by one\n",
    "Search an element in a sorted and rotated array\n",
    "Given a sorted and rotated array, find if there is a pair with a given sum\n",
    "Find maximum value of Sum( i*arr[i]) with only rotations on given array allowed\n",
    "Maximum sum of i*arr[i] among all rotations of a given array\n",
    "Find the Rotation Count in Rotated Sorted array\n",
    "Quickly find multiple left rotations of an array\n",
    "Find the minimum element in a sorted and rotated array\n",
    "Reversal algorithm for right rotation of an array\n",
    "Find a rotation with maximum hamming distance\n",
    "Queries on Left and Right Circular shift on array\n",
    "Print left rotation of array in O(n) time and O(1) space\n",
    "Find element at given index after a number of rotations\n",
    "Split the array and add the first part to the end"
   ]
  },
  {
   "cell_type": "markdown",
   "metadata": {},
   "source": [
    "### Program For Array Rotation\n",
    "\n",
    "\n",
    "In this section I will build some function called **rotate_array(arr, s, p)** that takes in an array *arr* of size *s*, *p* number places.  \n",
    "\n",
    "What I want to do is create an empy array and populate it using a for loop by using pop(i) to pull the element at index i in the array. I keep that fix. Then from there I use two different techniques append() and insert(i,v). Depending on the method used to add elements to the array it will affect the start and end of the loops. I keep the pop index fixed. Techically I could make the loop ranges that same."
   ]
  },
  {
   "cell_type": "code",
   "execution_count": 98,
   "metadata": {},
   "outputs": [
    {
     "name": "stdout",
     "output_type": "stream",
     "text": [
      "Original array: array('i', [1, 2, 3, 4, 5, 6, 7, 1])\n",
      "\n",
      "array('i', [4, 5, 6, 7, 1, 1, 2, 3])\n"
     ]
    }
   ],
   "source": [
    "# I won't import the array library since I did it already\n",
    "\n",
    "# Use append(). This fixes the data type in the array\n",
    "def rotation_array1(arr, s, p):\n",
    "    new_array = array.array('i',[])\n",
    "    print(\"Original array:\",arr, end=\"\")\n",
    "    print(\"\\n\")\n",
    "    \n",
    "    for i in range(p,s):\n",
    "        new_array.append(arr.pop(p))\n",
    "   \n",
    "    for i in range(0,p):\n",
    "        new_array.append(arr.pop(0))\n",
    "    return new_array\n",
    "\n",
    "# Use insert(i,v). This also fixes the data type in the array\n",
    "def rotation_array2(arr, s, p):\n",
    "    new_array = array.array('i',[])\n",
    "    print(\"Original array:\",arr, end=\"\")\n",
    "    print(\"\\n\")\n",
    "    \n",
    "    for i in range(0,s-p):\n",
    "        new_array.insert(i,arr.pop(p))\n",
    "\n",
    "    for i in range(s-p,s):\n",
    "        new_array.insert(i,arr.pop(0))\n",
    "    return new_array\n",
    "\n",
    "rot_arr = array.array(\"i\",[1, 2, 3, 4, 5, 6, 7, 1])\n",
    "print(rotation_array1(arr=rot_arr, s=len(rot_arr), p=3))"
   ]
  },
  {
   "cell_type": "markdown",
   "metadata": {},
   "source": [
    "### Reversal Algorithm for Array Rotation\n",
    "\n",
    "It seems like this is the same problem but different implimentation methods"
   ]
  },
  {
   "cell_type": "markdown",
   "metadata": {},
   "source": [
    "### Block Swap Algorithm for Array Rotation"
   ]
  },
  {
   "cell_type": "markdown",
   "metadata": {},
   "source": [
    "### Program to Cyclically Rotate an Array by One\n",
    "\n",
    "Program to cyclically rotate an array by one."
   ]
  },
  {
   "cell_type": "code",
   "execution_count": 109,
   "metadata": {},
   "outputs": [
    {
     "name": "stdout",
     "output_type": "stream",
     "text": [
      "Original array: array('i', [1, 2, 3, 4, 5, 6, 7, 1])\n",
      "\n"
     ]
    },
    {
     "data": {
      "text/plain": [
       "array('i', [2, 3, 4, 5, 6, 7, 1, 1])"
      ]
     },
     "execution_count": 109,
     "metadata": {},
     "output_type": "execute_result"
    }
   ],
   "source": [
    "def rot_array_by1(arr, p=1):\n",
    "    new_array = array.array('i',[])\n",
    "    print(\"Original array:\",arr, end=\"\")\n",
    "    print(\"\\n\")\n",
    "    \n",
    "    for i in range(0,len(arr)-p):\n",
    "        new_array.append(arr.pop(p))\n",
    "\n",
    "    for i in range(len(arr)-p,len(arr)):\n",
    "        new_array.append(arr.pop(0))\n",
    "    return new_array\n",
    "\n",
    "rot_arr = array.array(\"i\",[1, 2, 3, 4, 5, 6, 7, 1])\n",
    "rot_array_by1(arr=rot_arr)"
   ]
  },
  {
   "cell_type": "markdown",
   "metadata": {},
   "source": [
    "### Binary Search\n",
    "\n",
    "Given some array with n elements, you can write a function that searches through the array. A simple **linear search** can be used and the time complexity (or upper bound on performance) would be O(n). Another much better search that can be used is a **binary search**. This search method is usually done on arrays that have been sorted. This type of search had a time performance of O(log n). First you start will the whole sorted array. If the value you are looking for is less than the middle value in the array narrow you search to the left, otherwise start searching the right. Repeatedly check while reducing the interval (split it in half) until the key is found **or** until the interval is empty.  \n",
    "\n",
    "<font color=\"red\">**WARNING**</font>\n",
    "- Must be sorted in ascending order. These scripts aren't clever enough to do both ascending and descending order.  \n",
    "- Can handle repeating elements.  \n",
    "\n",
    "#### Strategy\n",
    "Ignore half of the elements just after one comparison.\n",
    "\n",
    "- Compare x with the middle element of the reduced interval.  \n",
    "- If x matches with middle element, we return the mid index.  \n",
    "- Else If x is greater than the mid element, then x can only lie in right half subarray after the mid element. So we recur for right half. Else (x is smaller) recur for the left half.  \n",
    "- Repeat!  "
   ]
  },
  {
   "cell_type": "markdown",
   "metadata": {},
   "source": [
    "The script below uses the <font color=\"red\"> **Recurrence Tree Method** </font>.  \n",
    "\n",
    "Time Complexity:  \n",
    "The time complexity of Binary Search can be written as  \n",
    "T(Logn)  \n",
    "\n",
    "Auxiliary Space:  \n",
    "O(Logn) in the case of recursive implementation, recursion calls stack space.  "
   ]
  },
  {
   "cell_type": "code",
   "execution_count": 124,
   "metadata": {},
   "outputs": [
    {
     "name": "stdout",
     "output_type": "stream",
     "text": [
      "starting index 0\n",
      "end index 5\n",
      "Mid 2\n",
      "It's less!\n",
      "starting index 0\n",
      "end index 1\n",
      "Mid 0\n",
      "It's less!\n",
      "Element is not present in array\n"
     ]
    }
   ],
   "source": [
    "# Python3 Program for recursive binary search. \n",
    "\n",
    "# arr: Some sorted array with some length, len(arr)\n",
    "# Returns index of x in arr if present, else -1 \n",
    "# l: The starting position of interval\n",
    "# r: The poisition (python idex) at the end of selected interval\n",
    "\n",
    "# Remember, throughout your search these values get updated until either the x value is found or \n",
    "# the interval is empty.\n",
    "def binarySearch (arr, l, r, x): \n",
    "  \n",
    "    # Check base case \n",
    "    if r >= l: #The interval is not empty\n",
    "        print(\"starting index\", l)\n",
    "        print(\"end index\",r)\n",
    "        mid = l + (r - l) // 2\n",
    "        print(\"Mid\",mid)\n",
    "  \n",
    "        # If element is present at the middle itself \n",
    "        if arr[mid] == x: \n",
    "            print(\"Found in the middle!\")\n",
    "            return mid \n",
    "          \n",
    "        # If element is smaller than mid, then it  \n",
    "        # can only be present in left subarray \n",
    "        elif arr[mid] > x: \n",
    "            print(\"It's less!\")\n",
    "            return binarySearch(arr, l, mid-1, x) \n",
    "  \n",
    "        # Else the element can only be present  \n",
    "        # in right subarray \n",
    "        else: \n",
    "            print(\"It's more!\")\n",
    "            return binarySearch(arr, mid + 1, r, x) \n",
    "    # when mid == 0 then we know the value isn't in the array.  \n",
    "    else: \n",
    "        # Element is not present in the array \n",
    "        return -1\n",
    "  \n",
    "# Driver Code\n",
    "arr = [ 2, 3, 4, 10, 40, 50 ] \n",
    "#arr = [ 50, 40, 10, 4, 3, 2 ] \n",
    "x = 3\n",
    "  \n",
    "# Function call \n",
    "result = binarySearch(arr, 0, len(arr)-1, x) # len(arr)-1 accounts for the fact that python starts from 0\n",
    "  \n",
    "if result != -1: \n",
    "    print (\"Element is present at index % d\" % result) \n",
    "else: \n",
    "    print (\"Element is not present in array\") "
   ]
  },
  {
   "cell_type": "code",
   "execution_count": 152,
   "metadata": {},
   "outputs": [
    {
     "name": "stdout",
     "output_type": "stream",
     "text": [
      "Starting index 0\n",
      "Ending index 6\n",
      "Middle Value  3\n",
      "The value is greater.\n",
      "Starting index 4\n",
      "Ending index 6\n",
      "Middle Value  5\n",
      "The value is greater.\n",
      "Starting index 6\n",
      "Ending index 6\n",
      "Middle Value  6\n",
      "Found the x value in the middle!\n",
      "Element is present at index  6\n"
     ]
    }
   ],
   "source": [
    "# Python3 code to implement iterative Binary  \n",
    "# Search. \n",
    "  \n",
    "# It returns location of x in given array arr  \n",
    "# if present, else returns -1 \n",
    "def binarySearch(arr, l, r, x): \n",
    "  \n",
    "    while l <= r: \n",
    "  \n",
    "        print(\"Starting index\", l)\n",
    "        print(\"Ending index\", r)\n",
    "        mid = l + (r - l) // 2;\n",
    "        print(\"Middle Value \",mid)\n",
    "          \n",
    "        # Check if x is present at mid \n",
    "        if arr[mid] == x:\n",
    "            print(\"Found the x value in the middle!\")\n",
    "            return mid \n",
    "  \n",
    "        # If x is greater, ignore left half \n",
    "        elif arr[mid] < x: \n",
    "            print(\"The value is greater.\")\n",
    "            l = mid + 1\n",
    "  \n",
    "        # If x is smaller, ignore right half \n",
    "        else: \n",
    "            r = mid - 1\n",
    "    # when mid == 0 then we know the value isn't in the array.\n",
    "    # If we reach here, then the element \n",
    "    # was not present \n",
    "    return -1\n",
    "  \n",
    "# Driver Code \n",
    "arr = [ 2, 3, 4, 4, 10, 40, 50 ] \n",
    "x = 50\n",
    "  \n",
    "# Function call \n",
    "result = binarySearch(arr, 0, len(arr)-1, x) # len(arr)-1 accounts for the fact that python starts from 0\n",
    "  \n",
    "if result != -1: \n",
    "    print (\"Element is present at index % d\" % result) \n",
    "else: \n",
    "    print (\"Element is not present in array\") \n"
   ]
  },
  {
   "cell_type": "markdown",
   "metadata": {},
   "source": [
    "The script above uses the <font color=\"red\"> **Iterative (Master) Method** </font>.  \n",
    "\n",
    "Time Complexity:  \n",
    "The time complexity of Binary Search can be written as  \n",
    "T(n) = T(n/2) + c  \n",
    "\n",
    "Auxiliary Space:  \n",
    "O(1) in case of iterative implementation. "
   ]
  },
  {
   "cell_type": "markdown",
   "metadata": {},
   "source": [
    "### Binary Search Rotated Array\n",
    "\n",
    "Given some array that has been first sorted and then rotated, find the key value using the **binary search method**. Recall, this method split the the array down the middle, it first checks if the desired value is at the middle, of now then it decides if the value is larger or smaller than the middle value. Then it either builds an array of values to the left of the midpoint **OR** to the right of the midpoint and then starts the process all over again.\n",
    "\n",
    "<font color=\"red\">**WARNING**</font>\n",
    "- CW rotation\n",
    "- Can handle sorted (ascending order) and unsorted arrays    \n",
    "- Cannot handle repeating elements  \n",
    "        arr = [2, 0, 2, 2, 2, 2, 2, 2, 2, 2]\n",
    "        arr = [2, 2, 2, 2, 2, 2, 2, 2, 0, 2]\n",
    "- Cannot handle descending order  \n"
   ]
  },
  {
   "cell_type": "markdown",
   "metadata": {},
   "source": [
    "#### Strategy\n",
    "Input arr[] = {3, 4, 5, 1, 2}  \n",
    "Element to Search = 1  \n",
    "\n",
    "\n",
    "- Find out pivot point and divide the array in two  \n",
    "      sub-arrays. (pivot = 2) /*Index of 5*/  \n",
    "- Now call binary search for one of the two sub-arrays.  \n",
    "      - If element is greater than 0th element then search in left array  \n",
    "      - Else Search in right array if the element is smaller than the 0th element  \n",
    "          (1 will go in else as 1 < 0th element(3))  \n",
    "- If element is found in selected sub-array then return index  \n",
    "     Else return -1.  "
   ]
  },
  {
   "cell_type": "code",
   "execution_count": 151,
   "metadata": {},
   "outputs": [
    {
     "name": "stdout",
     "output_type": "stream",
     "text": [
      "Index: 8\n"
     ]
    }
   ],
   "source": [
    "# Python Program to search an element \n",
    "# in a sorted and pivoted array \n",
    "  \n",
    "# Searches an element key in a pivoted \n",
    "# sorted array arrp[] of size n  \n",
    "def pivotedBinarySearch(arr, n, key): \n",
    "  \n",
    "    pivot = findPivot(arr, 0, n-1); \n",
    "  \n",
    "    # If we didn't find a pivot,  \n",
    "    # then array is not rotated at all \n",
    "    if pivot == -1: \n",
    "        return binarySearch(arr, 0, n-1, key); \n",
    "  \n",
    "    # If we found a pivot, then first \n",
    "    # compare with pivot and then \n",
    "    # search in two subarrays around pivot \n",
    "    if arr[pivot] == key: \n",
    "        return pivot \n",
    "    if arr[0] <= key: \n",
    "        return binarySearch(arr, 0, pivot-1, key); \n",
    "    return binarySearch(arr, pivot+1, n-1, key); \n",
    "  \n",
    "  \n",
    "# Function to get pivot. For array  \n",
    "# 3, 4, 5, 6, 1, 2 it returns 3  \n",
    "# (index of 6)  \n",
    "def findPivot(arr, low, high): \n",
    "      \n",
    "    # base cases \n",
    "    if high < low: \n",
    "        return -1\n",
    "    if high == low: \n",
    "        return low \n",
    "      \n",
    "    #low + (high - low)/2; \n",
    "    mid = int((low + high)/2) \n",
    "      \n",
    "    if mid < high and arr[mid] > arr[mid + 1]: \n",
    "        return mid \n",
    "    if mid > low and arr[mid] < arr[mid - 1]: \n",
    "        return (mid-1) \n",
    "    if arr[low] >= arr[mid]: \n",
    "        return findPivot(arr, low, mid-1) \n",
    "    return findPivot(arr, mid + 1, high) \n",
    "  \n",
    "# Standard Binary Search function*/ \n",
    "def binarySearch(arr, low, high, key): \n",
    "  \n",
    "    if high < low: \n",
    "        return -1\n",
    "          \n",
    "    #low + (high - low)/2;     \n",
    "    mid = int((low + high)/2) \n",
    "      \n",
    "    if key == arr[mid]: \n",
    "        return mid \n",
    "    if key > arr[mid]: \n",
    "        return binarySearch(arr, (mid + 1), high, \n",
    "                                            key); \n",
    "    return binarySearch(arr, low, (mid -1), key); \n",
    "  \n",
    "  \n",
    "# Driver program to check above functions */ \n",
    "# Let us search 3 in below array \n",
    "arr1 = [5, 6, 7, 8, 9, 10, 1, 2, 3] \n",
    "n = len(arr1) \n",
    "key = 3\n",
    "\n",
    "i = pivotedBinarySearch(arr1, n, key) \n",
    "if i != -1: \n",
    "    print (\"Index: %d\"%i) \n",
    "else: \n",
    "    print (\"Key not found\") "
   ]
  },
  {
   "cell_type": "markdown",
   "metadata": {},
   "source": [
    "#### Strategy\n",
    "Input arr[] = {3, 4, 5, 1, 2}  \n",
    "Element to Search = 1  \n",
    "\n",
    "\n",
    "- Find middle point mid = (l + h)/2  \n",
    "- If key is present at middle point, return mid.  \n",
    "- Else If arr[l..mid] is sorted  \n",
    "        - If key to be searched lies in range from arr[l] to arr[mid], recur for arr[l..mid].  \n",
    "        - Else recur for arr[mid+1..h]  \n",
    "- Else (arr[mid+1..h] must be sorted)  \n",
    "        - If key to be searched lies in range from arr[mid+1] to arr[h], recur for arr[mid+1..h].  \n",
    "        - Else recur for arr[l..mid]   "
   ]
  },
  {
   "cell_type": "code",
   "execution_count": 170,
   "metadata": {},
   "outputs": [
    {
     "name": "stdout",
     "output_type": "stream",
     "text": [
      "smallest: 0\n",
      "largest: 10\n",
      "Midpoint: 5\n",
      "Check left most array.\n",
      "smallest: 6\n",
      "largest: 10\n",
      "Midpoint: 8\n",
      "Check left most array.\n",
      "smallest: 9\n",
      "largest: 10\n",
      "Midpoint: 9\n",
      "Found it at the midpoint!\n",
      "Index: 9\n"
     ]
    }
   ],
   "source": [
    "# Search an element in sorted and rotated array using \n",
    "# single pass of Binary Search \n",
    "  \n",
    "# Returns index of key in arr[l..h] if key is present, \n",
    "# otherwise returns -1 \n",
    "def search(arr, l, h, key): \n",
    "    if l > h: \n",
    "        return -1\n",
    "    \n",
    "    print(\"smallest:\",l)\n",
    "    print(\"largest:\",h)\n",
    "    mid = (l + h) // 2\n",
    "    print(\"Midpoint:\", mid)\n",
    "    \n",
    "    if arr[mid] == key:\n",
    "        print(\"Found it at the midpoint!\")\n",
    "        return mid \n",
    "  \n",
    "    # If arr[l...mid] is sorted  \n",
    "    if arr[l] <= arr[mid]: \n",
    "        print(\"Check left most array.\")\n",
    "        # As this subarray is sorted, we can quickly \n",
    "        # check if key lies in half or other half  \n",
    "        if key >= arr[l] and key <= arr[mid]: # behaves just like a simple binary search problem\n",
    "            print(\"Both conditions met. Entered loop.\")\n",
    "            return search(arr, l, mid-1, key) \n",
    "        return search(arr, mid+1, h, key) \n",
    "  \n",
    "    # If arr[l..mid] is not sorted, then arr[mid... r] \n",
    "    # must be sorted \n",
    "    if key >= arr[mid] and key <= arr[h]: # behaves just like a simple binary search problem\n",
    "        print(\"Not sorted.\")\n",
    "        return search(a, mid+1, h, key) \n",
    "    return search(arr, l, mid-1, key) \n",
    "\n",
    "# Driver program \n",
    "arr = [4, 5, 6, 7, 8, 9, 0, 1, 2, 3] \n",
    "\n",
    "key = 3\n",
    "i = search(arr, 0, len(arr), key) \n",
    "if i != -1: \n",
    "    print (\"Index: %d\"%i) \n",
    "else: \n",
    "    print (\"Key not found\") "
   ]
  },
  {
   "cell_type": "markdown",
   "metadata": {},
   "source": [
    "### Find the Sum of the Pair of Sorted and Rotated\n",
    "\n",
    "Given an array that is sorted and then rotated around an unknown point. Find if the array has a pair with a given sum ‘x’. It may be assumed that all elements in the array are distinct."
   ]
  },
  {
   "cell_type": "markdown",
   "metadata": {},
   "source": [
    "#### Strategy\n",
    "Input: arr[] = {11, 15, 26, 38, 1, 3, 9, 10}, x = 41 (15+26 and 38+3 )\n",
    "My way. So what I would like to do is the following:  \n",
    "\n",
    "- Find the pivot point  \n",
    "- For the values to the left of the pivot point find the min and max sum,\n",
    "    - Check to see if x == min or max, if not check to see if is between them\n",
    "    - if not,\n",
    "- For the values to the right of the pivot point find the min and max sum,\n",
    "    - Check to see if x == min or max, if not check to see if is between them\n",
    "    - If not,\n",
    "        \n"
   ]
  },
  {
   "cell_type": "code",
   "execution_count": null,
   "metadata": {},
   "outputs": [],
   "source": []
  },
  {
   "cell_type": "markdown",
   "metadata": {},
   "source": [
    "#### Strategy\n",
    "\n",
    "We have discussed a O(n) solution for a sorted array (See steps 2, 3 and 4 of Method 1). We can extend this solution for rotated array as well. The idea is to first find the largest element in array which is the pivot point also and the element just after largest is the smallest element. Once we have indexes largest and smallest elements, we use similar meet in middle algorithm (as discussed here in method 1) to find if there is a pair. The only thing new here is indexes are incremented and decremented in rotational manner using modular arithmetic."
   ]
  },
  {
   "cell_type": "code",
   "execution_count": 213,
   "metadata": {},
   "outputs": [
    {
     "name": "stdout",
     "output_type": "stream",
     "text": [
      "Pivot Element is, 38\n",
      "7\n",
      "7\n",
      "7\n",
      "7\n",
      "Current sum is less than target sum.\n",
      "7\n",
      "0\n",
      "Current sum is less than target sum.\n",
      "0\n",
      "1\n",
      "1\n",
      "1\n",
      "Current sum is less than target sum.\n",
      "1\n",
      "2\n",
      "The sum equals\n",
      "l is  2\n",
      "r is 3\n",
      "Array has two elements with sum 21 \n",
      "\n",
      "The smallest index is 2 \n",
      "\n",
      "The largest index is 3 \n",
      "\n"
     ]
    }
   ],
   "source": [
    "# Python3 program to find a  \n",
    "# pair with a given sum in \n",
    "# a sorted and rotated array \n",
    "  \n",
    "  \n",
    "# This function returns True  \n",
    "# if arr[0..n-1] has a pair \n",
    "# with sum equals to x. \n",
    "def pairInSortedRotated( arr, n, x ): \n",
    "      \n",
    "    # Find the pivot element \n",
    "    for i in range(0, n): # I don't see why we exclude the last index (n-1)\n",
    "        if (arr[i] > arr[i + 1]):\n",
    "            print(\"Pivot Element is,\", arr[i])\n",
    "            break; \n",
    "              \n",
    "    # l is now index of smallest element         \n",
    "    l = (i + 1) % n \n",
    "    # r is now index of largest element \n",
    "    r = i      \n",
    "  \n",
    "    # Keep moving either l  \n",
    "    # or r till they meet \n",
    "    while (l != r): \n",
    "          \n",
    "        # If we find a pair with  \n",
    "        # sum x, we return True \n",
    "        if (arr[l] + arr[r] == x): \n",
    "            print(\"The sum equals\")\n",
    "            print(\"l is \",l)\n",
    "            print(\"r is\", r)\n",
    "            return True, l, r; \n",
    "              \n",
    "        # If current pair sum is less, \n",
    "        # move to the higher sum \n",
    "        if (arr[l] + arr[r] < x): \n",
    "            print(\"Current sum is less than target sum.\")\n",
    "            print(l)\n",
    "            l = (l + 1) % n; \n",
    "            print(l)\n",
    "        else: \n",
    "            print(l) \n",
    "            # Move to the lower sum side \n",
    "            r = (n + r - 1) % n; # clever way to move back one digit\n",
    "            print(l)\n",
    "      \n",
    "    return False, l, r; \n",
    "  \n",
    "  \n",
    "# Driver program to test above function  \n",
    "#arr = [11, 15, 26, 38, 1, 3, 9, 10] \n",
    "arr = [3, 9, 10, 11, 15, 26, 38, 1]\n",
    "sum = 21\n",
    "n = len(arr) \n",
    "boolean, l_, r_ = pairInSortedRotated(arr, n, sum)\n",
    "\n",
    "if (boolean): \n",
    "    print (\"Array has two elements with sum {}\".format(str(sum)), end=\" \")\n",
    "    print(\"\\n\")\n",
    "    print(\"The smallest index is {}\".format(str(l_)), end=\" \")\n",
    "    print(\"\\n\")\n",
    "    print(\"The largest index is {}\".format(str(r_)), end=\" \")\n",
    "    print(\"\\n\")\n",
    "\n",
    "else: \n",
    "    print (\"Array doesn't have two elements with sum {}\".format(str(sum)))"
   ]
  },
  {
   "cell_type": "code",
   "execution_count": 217,
   "metadata": {},
   "outputs": [
    {
     "data": {
      "text/plain": [
       "5"
      ]
     },
     "execution_count": 217,
     "metadata": {},
     "output_type": "execute_result"
    }
   ],
   "source": [
    "(n + 6-1) % n"
   ]
  },
  {
   "cell_type": "markdown",
   "metadata": {},
   "source": [
    "The time complexity of the above solution is O(n). The step to find the pivot can be optimized to O(Logn) using the Binary Search approach discussed in the previous section.\n",
    "\n",
    "#### Strategy\n",
    "\n",
    "How to count all pairs having sum x?\n",
    "The stepwise algo is:\n",
    "\n",
    "Find the pivot element of the sorted and the rotated array. The pivot element is the largest element in the array. The smallest element will be adjacent to it.\n",
    "Use two pointers (say left and right) with the left pointer pointing to the smallest element and the right pointer pointing to largest element.\n",
    "Find the sum of the elements pointed by both the pointers.\n",
    "If the sum is equal to x, then increment the count. If the sum is less than x, then to increase sum move the left pointer to next position by incrementing it in a rotational manner. If the sum is greater than x, then to decrease sum move the right pointer to next position by decrementing it in rotational manner.\n",
    "Repeat step 3 and 4 until the left pointer is not equal to the right pointer or until the left pointer is not equal to right pointer – 1.\n",
    "Print final count."
   ]
  },
  {
   "cell_type": "code",
   "execution_count": null,
   "metadata": {},
   "outputs": [],
   "source": [
    "# Python program to find  \n",
    "# number of pairs with  \n",
    "# a given sum in a sorted  \n",
    "# and rotated array. \n",
    "  \n",
    "# This function returns \n",
    "# count of number of pairs \n",
    "# with sum equals to x. \n",
    "def pairsInSortedRotated(arr, n, x): \n",
    "      \n",
    "    # Find the pivot element.  \n",
    "    # Pivot element is largest  \n",
    "    # element of array. \n",
    "    for i in range(n): \n",
    "        if arr[i] > arr[i + 1]: \n",
    "            break\n",
    "      \n",
    "    # l is index of \n",
    "    # smallest element. \n",
    "    l = (i + 1) % n  \n",
    "      \n",
    "    # r is index of  \n",
    "    # largest element. \n",
    "    r = i \n",
    "      \n",
    "    # Variable to store  \n",
    "    # count of number \n",
    "    # of pairs. \n",
    "    cnt = 0\n",
    "  \n",
    "    # Find sum of pair  \n",
    "    # formed by arr[l]  \n",
    "    # and arr[r] and  \n",
    "    # update l, r and  \n",
    "    # cnt accordingly. \n",
    "    while (l != r): \n",
    "          \n",
    "        # If we find a pair  \n",
    "        # with sum x, then  \n",
    "        # increment cnt, move  \n",
    "        # l and r to next element. \n",
    "        if arr[l] + arr[r] == x: \n",
    "            cnt += 1\n",
    "              \n",
    "            # This condition is  \n",
    "            # required to be checked,  \n",
    "            # otherwise l and r will  \n",
    "            # cross each other and  \n",
    "            # loop will never terminate. \n",
    "            if l == (r - 1 + n) % n: \n",
    "                return cnt \n",
    "              \n",
    "            l = (l + 1) % n \n",
    "            r = (r - 1 + n) % n \n",
    "          \n",
    "        # If current pair sum  \n",
    "        # is less, move to  \n",
    "        # the higher sum side. \n",
    "        elif arr[l] + arr[r] < x: \n",
    "            l = (l + 1) % n \n",
    "          \n",
    "        # If current pair sum  \n",
    "        # is greater, move to  \n",
    "        # the lower sum side. \n",
    "        else: \n",
    "            r = (n + r - 1) % n \n",
    "      \n",
    "    return cnt \n",
    "  \n",
    "# Driver Code \n",
    "arr = [11, 15, 6, 7, 9, 10] \n",
    "s = 16\n",
    "  \n",
    "print(pairsInSortedRotated(arr, 6, s))"
   ]
  },
  {
   "cell_type": "markdown",
   "metadata": {},
   "source": [
    "Time Complexity: O(n)\n",
    "Auxiliary Space: O(1)"
   ]
  },
  {
   "cell_type": "markdown",
   "metadata": {},
   "source": [
    "## Arrangement Rearrangement"
   ]
  },
  {
   "cell_type": "code",
   "execution_count": null,
   "metadata": {},
   "outputs": [],
   "source": []
  },
  {
   "cell_type": "code",
   "execution_count": null,
   "metadata": {},
   "outputs": [],
   "source": []
  },
  {
   "cell_type": "markdown",
   "metadata": {},
   "source": [
    "## Order Statistics"
   ]
  },
  {
   "cell_type": "code",
   "execution_count": null,
   "metadata": {},
   "outputs": [],
   "source": []
  },
  {
   "cell_type": "markdown",
   "metadata": {},
   "source": [
    "## Range Queries"
   ]
  },
  {
   "cell_type": "code",
   "execution_count": null,
   "metadata": {},
   "outputs": [],
   "source": []
  },
  {
   "cell_type": "markdown",
   "metadata": {},
   "source": [
    "## Searching and Sorting"
   ]
  },
  {
   "cell_type": "code",
   "execution_count": null,
   "metadata": {},
   "outputs": [],
   "source": []
  },
  {
   "cell_type": "markdown",
   "metadata": {},
   "source": [
    "## Optimization Problems"
   ]
  },
  {
   "cell_type": "code",
   "execution_count": null,
   "metadata": {},
   "outputs": [],
   "source": []
  },
  {
   "cell_type": "markdown",
   "metadata": {},
   "source": [
    "## Matrix"
   ]
  },
  {
   "cell_type": "code",
   "execution_count": null,
   "metadata": {},
   "outputs": [],
   "source": []
  }
 ],
 "metadata": {
  "kernelspec": {
   "display_name": "Python 3",
   "language": "python",
   "name": "python3"
  },
  "language_info": {
   "codemirror_mode": {
    "name": "ipython",
    "version": 3
   },
   "file_extension": ".py",
   "mimetype": "text/x-python",
   "name": "python",
   "nbconvert_exporter": "python",
   "pygments_lexer": "ipython3",
   "version": "3.7.1"
  }
 },
 "nbformat": 4,
 "nbformat_minor": 2
}
